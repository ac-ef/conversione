{
 "cells": [
  {
   "cell_type": "code",
   "execution_count": 1,
   "metadata": {},
   "outputs": [
    {
     "name": "stderr",
     "output_type": "stream",
     "text": [
      "C:\\Users\\Alessio\\anaconda3\\lib\\site-packages\\pandas_datareader\\compat\\__init__.py:7: FutureWarning: pandas.util.testing is deprecated. Use the functions in the public API at pandas.testing instead.\n",
      "  from pandas.util.testing import assert_frame_equal\n"
     ]
    }
   ],
   "source": [
    "import numpy as np \n",
    "import pandas as pd \n",
    "\n",
    "import pandas_datareader.data as web\n",
    "\n",
    "import statsmodels.api as sm\n",
    "\n",
    "import matplotlib.pyplot as plt\n",
    "import seaborn as sns\n",
    "sns.set()\n",
    "\n",
    "from datetime import datetime\n",
    "import time\n",
    "import ipywidgets as wg\n",
    "#from IPython.display import display\n",
    "%matplotlib notebook"
   ]
  },
  {
   "cell_type": "code",
   "execution_count": 2,
   "metadata": {},
   "outputs": [],
   "source": [
    "start = '2010-04'\n",
    "end = '2020-03'\n",
    "\n",
    "ff_3f  = web.DataReader('F-F_Research_Data_Factors','famafrench', start, end)[0]\n",
    "\n",
    "ff_48  = web.DataReader('48_Industry_Portfolios','famafrench', start, end)[0]\n",
    "\n",
    "data = pd.concat([ff_3f, ff_48], axis=1, sort=False)"
   ]
  },
  {
   "cell_type": "code",
   "execution_count": 3,
   "metadata": {},
   "outputs": [],
   "source": [
    "for i in range(4,len(data.columns)):\n",
    "    data[data.columns[i]] = data[data.columns[i]] - data['RF']\n",
    "new_data =data.drop(columns=['SMB','HML','RF'])\n",
    "e_r = np.mean(new_data.iloc[:,1:])\n",
    "x = sm.add_constant(new_data['Mkt-RF'])"
   ]
  },
  {
   "cell_type": "markdown",
   "metadata": {},
   "source": [
    "### Modo1"
   ]
  },
  {
   "cell_type": "code",
   "execution_count": 5,
   "metadata": {},
   "outputs": [
    {
     "data": {
      "application/vnd.jupyter.widget-view+json": {
       "model_id": "fc08bb67de90426e8c3a8fcfaad68dfc",
       "version_major": 2,
       "version_minor": 0
      },
      "text/plain": [
       "interactive(children=(FloatSlider(value=0.0, description='t', max=94.0, step=1.0), Output()), _dom_classes=('w…"
      ]
     },
     "metadata": {},
     "output_type": "display_data"
    },
    {
     "data": {
      "text/plain": [
       "<function __main__.<lambda>(t)>"
      ]
     },
     "execution_count": 5,
     "metadata": {},
     "output_type": "execute_result"
    }
   ],
   "source": [
    "window = 24 # rolling window\n",
    "\n",
    "def rolling(y: 'new_data', x: 'Mkt-Rf', t:'start of rolling') -> 'plot':\n",
    "    betas = []\n",
    "    index = {}\n",
    "    for i in range(1, len(y.columns)):\n",
    "        reg = sm.OLS(y.iloc[t:t+window, i], x[t:t+window]).fit()\n",
    "        betas.append(reg.params[1])\n",
    "    betas = pd.Series(betas, e_r.index)\n",
    "    \n",
    "    for i in range(len(new_data.index)-window):\n",
    "        index[i] = 'Da ' + str(new_data.index[i]) + ' a ' + str(new_data.index[i+window]) # Per il titolo\n",
    "\n",
    "    \n",
    "    plt.figure(figsize=(15,8))\n",
    "    ax = sns.regplot(betas,e_r)\n",
    "    for i, txt in enumerate(e_r.index):\n",
    "        ax.annotate(txt, (betas[i], e_r[i]))\n",
    "    plt.ylabel('Expected Return')\n",
    "    plt.xlabel('Beta')\n",
    "    plt.title(index[t])\n",
    "\n",
    "c_slide = wg.FloatSlider(value=0, min=0, max=len(new_data.index)-window-2, step=1)\n",
    "wg.interact(lambda t: rolling(new_data, x, int(t)), t = c_slide)\n",
    "#\n",
    "#for i in range(len(new_data.index)-window-2):\n",
    "#    c_slide.value = i\n",
    "#    time.sleep(0.05)"
   ]
  },
  {
   "cell_type": "markdown",
   "metadata": {},
   "source": [
    "### Modo 2"
   ]
  },
  {
   "cell_type": "code",
   "execution_count": null,
   "metadata": {},
   "outputs": [],
   "source": [
    "#beta = {}\n",
    "#index = {}\n",
    "#window = 24 # rolling window\n",
    "#for i in range(len(new_data.index)-window-1):\n",
    "#    index[i] = 'Da ' + str(new_data.index[i]) + ' a ' + str(new_data.index[i+window]) # Per il titolo\n",
    "#    beta[i] = []\n",
    "#    for j in range(1, len(new_data.columns)):\n",
    "#        beta[i].append(sm.OLS(new_data.iloc[i:i+window,j], x.iloc[i:i+window]).fit().params[1])\n",
    "#        \n",
    "#def graph(t):\n",
    "#    '''I dati sono mensili, per cui 10 anni sono 120 mesi: la finestra rolling è 2 anni, quindi 24 mesi.\n",
    "#    Di conseguenza, ci saranno 120 - 24 = 96 regressioni rolling\n",
    "#    t indica quale tra queste regressioni viene scelta, dove t = 0 è la prima\n",
    "#    '''\n",
    "#    plt.figure(figsize=(15,8))\n",
    "#    ax = sns.regplot(beta[t],e_r)\n",
    "#    for i, txt in enumerate(e_r.index):\n",
    "#        ax.annotate(txt, (beta[t][i], e_r[i]))\n",
    "#    plt.ylabel('Expected Return')\n",
    "#    plt.xlabel('Beta')\n",
    "#    plt.title(index[t])\n",
    "#    \n",
    "#c_slide = wg.FloatSlider(value=0, min=0, max=len(new_data.index)-window-1, step=1)\n",
    "#wg.interact(graph, t = c_slide)"
   ]
  }
 ],
 "metadata": {
  "kernelspec": {
   "display_name": "Python 3",
   "language": "python",
   "name": "python3"
  },
  "language_info": {
   "codemirror_mode": {
    "name": "ipython",
    "version": 3
   },
   "file_extension": ".py",
   "mimetype": "text/x-python",
   "name": "python",
   "nbconvert_exporter": "python",
   "pygments_lexer": "ipython3",
   "version": "3.7.6"
  }
 },
 "nbformat": 4,
 "nbformat_minor": 4
}
